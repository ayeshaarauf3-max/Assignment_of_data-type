{
  "nbformat": 4,
  "nbformat_minor": 0,
  "metadata": {
    "colab": {
      "provenance": []
    },
    "kernelspec": {
      "name": "python3",
      "display_name": "Python 3"
    },
    "language_info": {
      "name": "python"
    }
  },
  "cells": [
    {
      "cell_type": "markdown",
      "source": [
        "1: Create a variable of type: string,intger,float,and Boolean."
      ],
      "metadata": {
        "id": "zC_-saNYE5s0"
      }
    },
    {
      "cell_type": "code",
      "source": [
        "a=\"data type\"\n",
        "b=17\n",
        "c=17.13\n",
        "d=True\n",
        "print(type(a),\"a=\",\"data type\")\n",
        "print(type(b),\"b=\"\"17\")\n",
        "print(type(c),\"c=\"\"17.13\")\n",
        "print(type(d),\"d=\"\"Ture\")"
      ],
      "metadata": {
        "colab": {
          "base_uri": "https://localhost:8080/"
        },
        "id": "u2CDKWLNFvey",
        "outputId": "b7551612-f2a2-4952-db4e-0bf4b98b33dd"
      },
      "execution_count": 4,
      "outputs": [
        {
          "output_type": "stream",
          "name": "stdout",
          "text": [
            "<class 'str'> a= data type\n",
            "<class 'int'> b=17\n",
            "<class 'float'> c=17.13\n",
            "<class 'bool'> d=Ture\n"
          ]
        }
      ]
    },
    {
      "cell_type": "markdown",
      "source": [
        "2: Make a list of 5 furite name and print."
      ],
      "metadata": {
        "id": "i5u4rKOtHTsK"
      }
    },
    {
      "cell_type": "code",
      "source": [
        "furite_name:list=[\"Apple,banana,orange, Mango, painapple\"]\n",
        "print(furite_name)"
      ],
      "metadata": {
        "colab": {
          "base_uri": "https://localhost:8080/"
        },
        "id": "POSVz034HhTi",
        "outputId": "3b62b17d-fe73-4b67-9b43-51096daac237"
      },
      "execution_count": 5,
      "outputs": [
        {
          "output_type": "stream",
          "name": "stdout",
          "text": [
            "['Apple,banana,orange, Mango, painapple']\n"
          ]
        }
      ]
    },
    {
      "cell_type": "markdown",
      "source": [
        "3: Define a dictionary with key: name, age , city_and print with key value."
      ],
      "metadata": {
        "id": "_8mEYHVFIRh9"
      }
    },
    {
      "cell_type": "code",
      "source": [
        "my_dict:dict=(\"Name:Ayesha,age:18,city:Gujranwala\" )\n",
        "print(my_dict)"
      ],
      "metadata": {
        "colab": {
          "base_uri": "https://localhost:8080/"
        },
        "id": "bH5KVJoeIsX9",
        "outputId": "98d26982-48a5-4e15-aa3a-5f26e4ffe3cd"
      },
      "execution_count": 6,
      "outputs": [
        {
          "output_type": "stream",
          "name": "stdout",
          "text": [
            "Name:Ayesha,age:18,city:Gujranwala\n"
          ]
        }
      ]
    },
    {
      "cell_type": "markdown",
      "source": [
        "4:Create a set of unique hobbies."
      ],
      "metadata": {
        "id": "vdxdurr9JLbY"
      }
    },
    {
      "cell_type": "code",
      "source": [
        "my_set:set={\"sketching,cooking,eating\"}\n",
        "print(type(my_set),\"my_set\",my_set)"
      ],
      "metadata": {
        "colab": {
          "base_uri": "https://localhost:8080/"
        },
        "id": "GSNHgv5yJaMn",
        "outputId": "7c15090e-feb7-47d6-9274-8f9ba831e339"
      },
      "execution_count": 8,
      "outputs": [
        {
          "output_type": "stream",
          "name": "stdout",
          "text": [
            "<class 'set'> my_set {'sketching,cooking,eating'}\n"
          ]
        }
      ]
    },
    {
      "cell_type": "markdown",
      "source": [
        "5: Make a list of 5 student name and print."
      ],
      "metadata": {
        "id": "x5o-wnr3KCDW"
      }
    },
    {
      "cell_type": "code",
      "source": [
        "my_list:list=[\"ali,ahmad,hassan,Faiza,rehman\"]\n",
        "print(type(my_list),\"my_list\",my_set)"
      ],
      "metadata": {
        "colab": {
          "base_uri": "https://localhost:8080/"
        },
        "id": "H_xLvxTOKP4r",
        "outputId": "60aa9017-2233-486c-c320-ef5a11317e3d"
      },
      "execution_count": 9,
      "outputs": [
        {
          "output_type": "stream",
          "name": "stdout",
          "text": [
            "<class 'list'> my_list {'sketching,cooking,eating'}\n"
          ]
        }
      ]
    },
    {
      "cell_type": "markdown",
      "source": [
        "6:store 3 float num and calucalte average."
      ],
      "metadata": {
        "id": "833iSRfLK2S-"
      }
    },
    {
      "cell_type": "code",
      "source": [
        "num1=17.13\n",
        "num2=13.17\n",
        "num3=1.7\n",
        "average=(num1+num2+num3)/3\n",
        "print(\"average\",average)"
      ],
      "metadata": {
        "colab": {
          "base_uri": "https://localhost:8080/"
        },
        "id": "rpMMXX23LZbM",
        "outputId": "44e976a7-9b75-4396-8841-ca7fc0e823c8"
      },
      "execution_count": 10,
      "outputs": [
        {
          "output_type": "stream",
          "name": "stdout",
          "text": [
            "average 10.666666666666666\n"
          ]
        }
      ]
    },
    {
      "cell_type": "markdown",
      "source": [
        "7: Tuple of four cities."
      ],
      "metadata": {
        "id": "1HV7DhmnMyFC"
      }
    },
    {
      "cell_type": "code",
      "source": [
        "my_tuple:tuple=(\"Lahore,Karachi,Islamabad,Maureen,Gujranwala\")\n",
        "print(my_tuple)"
      ],
      "metadata": {
        "colab": {
          "base_uri": "https://localhost:8080/"
        },
        "id": "5k1o0qwVM78G",
        "outputId": "5752bca2-018a-4cb7-c673-e0a6704df96e"
      },
      "execution_count": 12,
      "outputs": [
        {
          "output_type": "stream",
          "name": "stdout",
          "text": [
            "Lahore,Karachi,Islamabad,Maureen,Gujranwala\n"
          ]
        }
      ]
    },
    {
      "cell_type": "markdown",
      "source": [
        "8: set of vowel in a string."
      ],
      "metadata": {
        "id": "TwBzAsJUN2CK"
      }
    },
    {
      "cell_type": "code",
      "source": [
        "my_str:str=\"a,i,o,u,e\"\n",
        "print(my_str)"
      ],
      "metadata": {
        "colab": {
          "base_uri": "https://localhost:8080/"
        },
        "id": "CR9o8y8NN-32",
        "outputId": "afccc3cc-ba29-45b5-c65c-bfc3efb04ab9"
      },
      "execution_count": 13,
      "outputs": [
        {
          "output_type": "stream",
          "name": "stdout",
          "text": [
            "a,i,o,u,e\n"
          ]
        }
      ]
    },
    {
      "cell_type": "markdown",
      "source": [
        "9: Create a dict of 3 programming languages with their creator and print them."
      ],
      "metadata": {
        "id": "IAB-scCXPFfA"
      }
    },
    {
      "cell_type": "code",
      "source": [
        "my_dict:dict={\"python,c++,java\"}\n",
        "print(type(dict),\"my_dict\",my_dict)"
      ],
      "metadata": {
        "colab": {
          "base_uri": "https://localhost:8080/"
        },
        "id": "0Q_KT61yPYr3",
        "outputId": "2142e165-3325-42bd-b725-a6ef074b3c29"
      },
      "execution_count": 16,
      "outputs": [
        {
          "output_type": "stream",
          "name": "stdout",
          "text": [
            "<class 'type'> my_dict {'python,c++,java'}\n"
          ]
        }
      ]
    },
    {
      "cell_type": "markdown",
      "source": [
        "10: Create a tuple of 3 favorite num and print."
      ],
      "metadata": {
        "id": "25amigEZP6RO"
      }
    },
    {
      "cell_type": "code",
      "source": [
        "my_tuple:tuple=(11,77,33)\n",
        "print(type(tuple),\"my_tuple\",my_tuple)"
      ],
      "metadata": {
        "colab": {
          "base_uri": "https://localhost:8080/"
        },
        "id": "lPRLun70QD1-",
        "outputId": "ca11cd46-1727-4179-c7d6-487804753caa"
      },
      "execution_count": 15,
      "outputs": [
        {
          "output_type": "stream",
          "name": "stdout",
          "text": [
            "<class 'type'> my_tuple (11, 77, 33)\n"
          ]
        }
      ]
    }
  ]
}